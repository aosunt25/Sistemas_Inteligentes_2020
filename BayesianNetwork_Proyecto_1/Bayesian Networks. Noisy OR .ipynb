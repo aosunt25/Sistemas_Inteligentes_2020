{
 "cells": [
  {
   "cell_type": "code",
   "execution_count": 1,
   "metadata": {},
   "outputs": [],
   "source": [
    "import math \n",
    "from pomegranate import *\n",
    "import json"
   ]
  },
  {
   "cell_type": "code",
   "execution_count": 7,
   "metadata": {},
   "outputs": [
    {
     "name": "stdout",
     "output_type": "stream",
     "text": [
      "[{\n",
      "    \"class\" :\"Distribution\",\n",
      "    \"name\" :\"DiscreteDistribution\",\n",
      "    \"dtype\" :\"str\",\n",
      "    \"parameters\" :[\n",
      "        {\n",
      "            \"A\" :0.45\n",
      "        }\n",
      "    ],\n",
      "    \"frozen\" :false\n",
      "}, {\n",
      "    \"class\" :\"Distribution\",\n",
      "    \"name\" :\"DiscreteDistribution\",\n",
      "    \"dtype\" :\"str\",\n",
      "    \"parameters\" :[\n",
      "        {\n",
      "            \"B\" :0.05\n",
      "        }\n",
      "    ],\n",
      "    \"frozen\" :false\n",
      "}, {\n",
      "    \"class\" :\"Distribution\",\n",
      "    \"name\" :\"DiscreteDistribution\",\n",
      "    \"dtype\" :\"str\",\n",
      "    \"parameters\" :[\n",
      "        {\n",
      "            \"C\" :0.01\n",
      "        }\n",
      "    ],\n",
      "    \"frozen\" :false\n",
      "}, {\n",
      "    \"class\" :\"Distribution\",\n",
      "    \"name\" :\"DiscreteDistribution\",\n",
      "    \"dtype\" :\"str\",\n",
      "    \"parameters\" :[\n",
      "        {\n",
      "            \"D\" :0.008\n",
      "        }\n",
      "    ],\n",
      "    \"frozen\" :false\n",
      "}]\n"
     ]
    }
   ],
   "source": [
    "def addNewTable(node, table, state_list):\n",
    "    key = node.keys()\n",
    "    info = k.split(\"|\")\n",
    "    probability_list = []\n",
    "    for k in node.keys():\n",
    "        info = k.split(\"|\")\n",
    "        print(info[1].split(\",\"))\n",
    "    \n",
    "    \n",
    "\n",
    "with open(\"Noisy_OR.json\", \"r\") as f:\n",
    "    bayer_data = json.load(f)\n",
    "\n",
    "distribution_list = []\n",
    "state_list = []\n",
    "for node in bayer_data:\n",
    "    for k in node.keys(): \n",
    "        if k.find(\"|\") == -1:\n",
    "            distribution = DiscreteDistribution({k : node.get(k)})\n",
    "            distribution_list.append(distribution)\n",
    "            state_list.append(State(distribution, name = k))\n",
    "            \n",
    "print(distribution_list)"
   ]
  },
  {
   "cell_type": "code",
   "execution_count": 8,
   "metadata": {},
   "outputs": [
    {
     "name": "stdout",
     "output_type": "stream",
     "text": [
      "[{\n",
      "    \"class\" : \"State\",\n",
      "    \"name\" : \"A\",\n",
      "    \"weight\" : 1.0,\n",
      "    \"distribution\" : {\n",
      "        \"class\" : \"Distribution\",\n",
      "        \"name\" : \"DiscreteDistribution\",\n",
      "        \"dtype\" : \"str\",\n",
      "        \"parameters\" : [\n",
      "            {\n",
      "                \"A\" : 0.45\n",
      "            }\n",
      "        ],\n",
      "        \"frozen\" : false\n",
      "    }\n",
      "}, {\n",
      "    \"class\" : \"State\",\n",
      "    \"name\" : \"B\",\n",
      "    \"weight\" : 1.0,\n",
      "    \"distribution\" : {\n",
      "        \"class\" : \"Distribution\",\n",
      "        \"name\" : \"DiscreteDistribution\",\n",
      "        \"dtype\" : \"str\",\n",
      "        \"parameters\" : [\n",
      "            {\n",
      "                \"B\" : 0.05\n",
      "            }\n",
      "        ],\n",
      "        \"frozen\" : false\n",
      "    }\n",
      "}, {\n",
      "    \"class\" : \"State\",\n",
      "    \"name\" : \"C\",\n",
      "    \"weight\" : 1.0,\n",
      "    \"distribution\" : {\n",
      "        \"class\" : \"Distribution\",\n",
      "        \"name\" : \"DiscreteDistribution\",\n",
      "        \"dtype\" : \"str\",\n",
      "        \"parameters\" : [\n",
      "            {\n",
      "                \"C\" : 0.01\n",
      "            }\n",
      "        ],\n",
      "        \"frozen\" : false\n",
      "    }\n",
      "}, {\n",
      "    \"class\" : \"State\",\n",
      "    \"name\" : \"D\",\n",
      "    \"weight\" : 1.0,\n",
      "    \"distribution\" : {\n",
      "        \"class\" : \"Distribution\",\n",
      "        \"name\" : \"DiscreteDistribution\",\n",
      "        \"dtype\" : \"str\",\n",
      "        \"parameters\" : [\n",
      "            {\n",
      "                \"D\" : 0.008\n",
      "            }\n",
      "        ],\n",
      "        \"frozen\" : false\n",
      "    }\n",
      "}]\n"
     ]
    }
   ],
   "source": [
    "print(state_list)"
   ]
  },
  {
   "cell_type": "code",
   "execution_count": null,
   "metadata": {},
   "outputs": [],
   "source": []
  }
 ],
 "metadata": {
  "kernelspec": {
   "display_name": "Python 3",
   "language": "python",
   "name": "python3"
  },
  "language_info": {
   "codemirror_mode": {
    "name": "ipython",
    "version": 3
   },
   "file_extension": ".py",
   "mimetype": "text/x-python",
   "name": "python",
   "nbconvert_exporter": "python",
   "pygments_lexer": "ipython3",
   "version": "3.5.6"
  }
 },
 "nbformat": 4,
 "nbformat_minor": 4
}
