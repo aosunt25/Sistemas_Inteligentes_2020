{
 "cells": [
  {
   "cell_type": "markdown",
   "metadata": {},
   "source": [
    "# Bayesian Networks"
   ]
  },
  {
   "cell_type": "code",
   "execution_count": 100,
   "metadata": {},
   "outputs": [],
   "source": [
    "import math \n",
    "from pomegranate import *\n",
    "import json"
   ]
  },
  {
   "cell_type": "markdown",
   "metadata": {},
   "source": [
    "#### Function addNewTable creates all the Conditional Probability Tables of the Bayesian Network"
   ]
  },
  {
   "cell_type": "code",
   "execution_count": 101,
   "metadata": {},
   "outputs": [],
   "source": [
    "def addNewTable(node, cond_dis_list):\n",
    "    \n",
    "    ##List that contain the distributions and conditionals of the Conditional Probability Table\n",
    "    conditional_list = []\n",
    "    distribution_list = []\n",
    "    \n",
    "    ##Reads every k in the node\n",
    "    for k in node.keys():\n",
    "        \n",
    "        ##List that contain the probability table of the Conditional Probability Table\n",
    "        probability_list = []\n",
    "        \n",
    "        ##Info has the informations of the name and parents of the state \n",
    "        info = k.split(\"|\")\n",
    "        \n",
    "        ##Parents has the list of parents of the state \n",
    "        parents = info[1].split(\",\")\n",
    "        \n",
    "        ##For every parent of the k it will push it to the probability list\n",
    "        for i in range(len(parents)):\n",
    "            probability_list.append(parents[i])\n",
    "         \n",
    "        ##It pushes the numerical value of the probability \n",
    "        probability_list.append(node.get(k))\n",
    "        \n",
    "        ##Adds that probability to the table\n",
    "        conditional_list.append(probability_list)\n",
    "   \n",
    "    ##Reads every k in the node\n",
    "    for k in node.keys():\n",
    "        \n",
    "        ##Info has the informations of the name and parents of the state \n",
    "        info = k.split(\"|\")\n",
    "        \n",
    "        ##Parents has the list of parents of the state \n",
    "        parents = info[1].split(\",\")\n",
    "        \n",
    "        ##For every parent of the k it will push it to the distribution list\n",
    "        for i in range(len(parents)):\n",
    "            \n",
    "            ##For every distribution that equals to the parents  will push it to the distribution list\n",
    "            for d in range(len(cond_dis_list)):\n",
    "                if parents[i] == cond_dis_list[d][0] or parents[i] == \"-\"+cond_dis_list[d][0][0]:\n",
    "                    distribution_list.append(cond_dis_list[d][1])\n",
    "                    break \n",
    "            \n",
    "            ##For every distribution that equals to the parents  will push it to the distribution list\n",
    "        \n",
    "        break   \n",
    "    \n",
    "    ##Creates a Conditional Probability Table with the conditional_list and distribution_list generated in the function\n",
    "    cond = ConditionalProbabilityTable(conditional_list,distribution_list)\n",
    "    \n",
    "    ##Returns the Conditional Probability Table cond\n",
    "    return cond"
   ]
  },
  {
   "cell_type": "markdown",
   "metadata": {},
   "source": [
    "#### Function addEdgesOfStates adds all the Edges between states of the Bayesian Network "
   ]
  },
  {
   "cell_type": "code",
   "execution_count": 102,
   "metadata": {},
   "outputs": [],
   "source": [
    "#tuples of length 2 = DISCRETE DISTRIBUTION (NO PARENTS) -> (name, distribution)\n",
    "#tuples of length 3 = CONDITIONAL PROBABILITY TABLE (WITH PARENTS) -> (name, cond, parents)\n",
    "\n",
    "def addEdgesOfStates(network, cond_dist_list, state_list):\n",
    "    cond_dist_list_INDEX = 0;\n",
    "    for condDist in cond_dist_list:\n",
    "        #A tuple of length 3 indicates that the distribution consists of a conditional probability table,\n",
    "        #and thus has a parent which creates an edge with someone else.\n",
    "        if(len(condDist) == 3):\n",
    "            #The \"son\" state will always correspond with the current index of the for loop\n",
    "            son = state_list[cond_dist_list_INDEX]\n",
    "            #For each parent found to be associated with X son\n",
    "            for parentTag in condDist[2]:\n",
    "                #Searches for STATE associated with parentTag\n",
    "                for parent in state_list:\n",
    "                    if(parent.name == parentTag):\n",
    "                        #Adds edge to the network\n",
    "                        #print(\"Parent to be added:\\n\", parent, \"\\nSon to be added:\\n\", son)\n",
    "                        network.add_edge(parent, son)\n",
    "        cond_dist_list_INDEX += 1\n",
    "    \n",
    "    return network"
   ]
  },
  {
   "cell_type": "markdown",
   "metadata": {},
   "source": [
    "#### Function createJsonFile creates a JSON file with the Bayesian Network"
   ]
  },
  {
   "cell_type": "code",
   "execution_count": 4,
   "metadata": {},
   "outputs": [
    {
     "ename": "SyntaxError",
     "evalue": "unexpected EOF while parsing (<ipython-input-4-abdf74602805>, line 2)",
     "output_type": "error",
     "traceback": [
      "\u001b[0;36m  File \u001b[0;32m\"<ipython-input-4-abdf74602805>\"\u001b[0;36m, line \u001b[0;32m2\u001b[0m\n\u001b[0;31m    \u001b[0m\n\u001b[0m    ^\u001b[0m\n\u001b[0;31mSyntaxError\u001b[0m\u001b[0;31m:\u001b[0m unexpected EOF while parsing\n"
     ]
    }
   ],
   "source": [
    "def createJsonFile():\n",
    "    "
   ]
  },
  {
   "cell_type": "code",
   "execution_count": 104,
   "metadata": {},
   "outputs": [
    {
     "ename": "KeyError",
     "evalue": "('B', '-B')",
     "output_type": "error",
     "traceback": [
      "\u001b[0;31m---------------------------------------------------------------------------\u001b[0m",
      "\u001b[0;31mKeyError\u001b[0m                                  Traceback (most recent call last)",
      "\u001b[0;32m<ipython-input-104-e621f9f1259a>\u001b[0m in \u001b[0;36m<module>\u001b[0;34m\u001b[0m\n\u001b[1;32m     50\u001b[0m \u001b[0mnetwork\u001b[0m \u001b[0;34m=\u001b[0m \u001b[0maddEdgesOfStates\u001b[0m\u001b[0;34m(\u001b[0m\u001b[0mnetwork\u001b[0m\u001b[0;34m,\u001b[0m \u001b[0mcond_dist_list\u001b[0m\u001b[0;34m,\u001b[0m \u001b[0mstate_list\u001b[0m\u001b[0;34m)\u001b[0m\u001b[0;34m;\u001b[0m\u001b[0;34m\u001b[0m\u001b[0;34m\u001b[0m\u001b[0m\n\u001b[1;32m     51\u001b[0m \u001b[0;34m\u001b[0m\u001b[0m\n\u001b[0;32m---> 52\u001b[0;31m \u001b[0mnetwork\u001b[0m\u001b[0;34m.\u001b[0m\u001b[0mbake\u001b[0m\u001b[0;34m(\u001b[0m\u001b[0;34m)\u001b[0m\u001b[0;34m\u001b[0m\u001b[0;34m\u001b[0m\u001b[0m\n\u001b[0m\u001b[1;32m     53\u001b[0m \u001b[0;34m\u001b[0m\u001b[0m\n\u001b[1;32m     54\u001b[0m \u001b[0;31m#TO-DO agregar beliefs predict proba statement {disque Fax}\u001b[0m\u001b[0;34m\u001b[0m\u001b[0;34m\u001b[0m\u001b[0;34m\u001b[0m\u001b[0m\n",
      "\u001b[0;32m~/anaconda3/envs/SI/lib/python3.8/site-packages/pomegranate/BayesianNetwork.pyx\u001b[0m in \u001b[0;36mpomegranate.BayesianNetwork.BayesianNetwork.bake\u001b[0;34m()\u001b[0m\n",
      "\u001b[0;32mpomegranate/distributions/ConditionalProbabilityTable.pyx\u001b[0m in \u001b[0;36mpomegranate.distributions.ConditionalProbabilityTable.ConditionalProbabilityTable.bake\u001b[0;34m()\u001b[0m\n",
      "\u001b[0;31mKeyError\u001b[0m: ('B', '-B')"
     ]
    }
   ],
   "source": [
    "with open(\"Noisy_OR.json\", \"r\") as f:\n",
    "    bayer_data = json.load(f)\n",
    "\n",
    "##Lists that contain the distributions, conditionals and states of the Bayesian Network\n",
    "cond_dist_list = []\n",
    "state_list = []\n",
    "conditional_list = []\n",
    "\n",
    "counter = 0\n",
    "\n",
    "\n",
    "##Reads every line of the JSON file \n",
    "for node in bayer_data:\n",
    "    \n",
    "    ##Reads every key value from the node that is reading at the moment\n",
    "    for k in node.keys():\n",
    "        \n",
    "        ##If the k does not have a character \"|\" it means is a Discrete Distribution\n",
    "        if k.find(\"|\") == -1:\n",
    "            name = k[0:len(k):1]\n",
    "            ##Creates a Discrete Distribution with the k value as the name and the information of the key as the rest and adds it to the dictionary\n",
    "            distribution = DiscreteDistribution({k : node.get(k)})\n",
    "            tuple_dis =(name, distribution)\n",
    "            cond_dist_list.append(tuple_dis)\n",
    "            ##Creates a new state with the distribution and the name k\n",
    "            state_list.append(State( distribution, name = k))\n",
    "            \n",
    "        ##If the k has a \"|\" it means is a Conditional Probability Table    \n",
    "        elif k.find(\"|\") == 1: \n",
    "            \n",
    "            info = k.split(\"|\")\n",
    "            name = info[0]\n",
    "            parents = info[1].split(\",\")\n",
    "            ##Calls the function addNewTable that returns a Conditional Probability Table and adds it to the dictionary\n",
    "            cond = addNewTable(node, cond_dist_list)\n",
    "            tuple_cond= (name,cond,parents)\n",
    "            cond_dist_list.append(tuple_cond)\n",
    "           \n",
    "            ##Creates a new state with the conditional and the name k\n",
    "            state_list.append(State(cond, name = k.split(\"|\")[0]))\n",
    "            \n",
    "            break\n",
    "\n",
    "#Creates network and adds all States in state_list to it\n",
    "network = BayesianNetwork(\"Name of Bayesian Network\")\n",
    "for stateElement in state_list:\n",
    "    network.add_states(stateElement)\n",
    "\n",
    "#Adds all edges to the network\n",
    "network = addEdgesOfStates(network, cond_dist_list, state_list);\n",
    "\n",
    "#network.bake()\n",
    "\n",
    "#TO-DO agregar beliefs predict proba statement {disque Fax}\n",
    "#TO-DO agregar PRINT statement  {disque Fax???}\n",
    "#TO-DO checar contra la rúbrica\n",
    "\n",
    "#Este es la entrega final.\n",
    "\n",
    "#DEBUG AREA\n",
    "print(network)"
   ]
  },
  {
   "cell_type": "code",
   "execution_count": null,
   "metadata": {},
   "outputs": [],
   "source": []
  }
 ],
 "metadata": {
  "kernelspec": {
   "display_name": "Python 3",
   "language": "python",
   "name": "python3"
  },
  "language_info": {
   "codemirror_mode": {
    "name": "ipython",
    "version": 3
   },
   "file_extension": ".py",
   "mimetype": "text/x-python",
   "name": "python",
   "nbconvert_exporter": "python",
   "pygments_lexer": "ipython3",
   "version": "3.8.1"
  }
 },
 "nbformat": 4,
 "nbformat_minor": 4
}
