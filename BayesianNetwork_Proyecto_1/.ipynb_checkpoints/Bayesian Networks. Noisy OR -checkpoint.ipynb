{
 "cells": [
  {
   "cell_type": "markdown",
   "metadata": {},
   "source": [
    "# Bayesian Networks"
   ]
  },
  {
   "cell_type": "code",
   "execution_count": 6,
   "metadata": {},
   "outputs": [],
   "source": [
    "import math \n",
    "from pomegranate import *\n",
    "import json"
   ]
  },
  {
   "cell_type": "code",
   "execution_count": 7,
   "metadata": {},
   "outputs": [],
   "source": [
    "def addNewTable(node, distribution, conditional):\n",
    "    conditional_list = []\n",
    "    distribution_list = []\n",
    "    for k in node.keys():\n",
    "        probability_list = []\n",
    "        info = k.split(\"|\")\n",
    "        parents = info[1].split(\",\")\n",
    "        \n",
    "        for i in range(len(parents)):\n",
    "            probability_list.append(parents[i])\n",
    "            \n",
    "        probability_list.append(node.get(k))\n",
    "        conditional_list.append(probability_list)\n",
    "   \n",
    "    for k in node.keys():\n",
    "        info = k.split(\"|\")\n",
    "        parents = info[1].split(\",\")\n",
    "        for i in range(len(parents)):\n",
    "            for d in range(len(distribution)):\n",
    "                if parents[i] == distribution[d].keys()[0] or parents[i] == \"-\"+distribution[d].keys()[0]:\n",
    "                    distribution_list.append(distribution[d])\n",
    "                    break\n",
    "                    \n",
    "        break   \n",
    "    \n",
    "    cond = ConditionalProbabilityTable(conditional_list,distribution_list)\n",
    "    return cond    \n",
    "    \n",
    "\n",
    "\n",
    "            "
   ]
  },
  {
   "cell_type": "code",
   "execution_count": 11,
   "metadata": {},
   "outputs": [
    {
     "name": "stdout",
     "output_type": "stream",
     "text": [
      "E\n",
      "F\n",
      "G\n",
      "H\n",
      "I\n"
     ]
    }
   ],
   "source": [
    "with open(\"Noisy_OR.json\", \"r\") as f:\n",
    "    bayer_data = json.load(f)\n",
    "\n",
    "distribution_list = []\n",
    "state_list = []\n",
    "conditional_list = []\n",
    "counter = 0\n",
    "for node in bayer_data:\n",
    "    \n",
    "    for k in node.keys():\n",
    "        if k.find(\"|\") == -1:\n",
    "            distribution = DiscreteDistribution({k : node.get(k)})\n",
    "            distribution_list.append(distribution)\n",
    "            state_list.append(State(distribution, name = k))\n",
    "        else:\n",
    "            cond = addNewTable(node, distribution_list, conditional_list)\n",
    "            print()\n",
    "            conditional_list.append(cond)\n",
    "            state_list.append(State(cond, name = k.split(\"|\")[0]))\n",
    "            break\n"
   ]
  },
  {
   "cell_type": "code",
   "execution_count": null,
   "metadata": {},
   "outputs": [],
   "source": []
  },
  {
   "cell_type": "code",
   "execution_count": null,
   "metadata": {},
   "outputs": [],
   "source": []
  }
 ],
 "metadata": {
  "kernelspec": {
   "display_name": "Python 3",
   "language": "python",
   "name": "python3"
  },
  "language_info": {
   "codemirror_mode": {
    "name": "ipython",
    "version": 3
   },
   "file_extension": ".py",
   "mimetype": "text/x-python",
   "name": "python",
   "nbconvert_exporter": "python",
   "pygments_lexer": "ipython3",
   "version": "3.5.6"
  }
 },
 "nbformat": 4,
 "nbformat_minor": 4
}
