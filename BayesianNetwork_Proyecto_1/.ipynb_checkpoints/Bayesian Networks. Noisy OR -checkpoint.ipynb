{
 "cells": [
  {
   "cell_type": "markdown",
   "metadata": {},
   "source": [
    "# Bayesian Networks"
   ]
  },
  {
   "cell_type": "code",
   "execution_count": 2,
   "metadata": {},
   "outputs": [],
   "source": [
    "import math \n",
    "from pomegranate import *\n",
    "import json"
   ]
  },
  {
   "cell_type": "markdown",
   "metadata": {},
   "source": [
    "#### Function addNewTable creates all the Conditional Probability Tables of the Bayesian Network"
   ]
  },
  {
   "cell_type": "code",
   "execution_count": 101,
   "metadata": {},
   "outputs": [],
   "source": [
    "\n",
    "def addNewTable(node, cond_dis_list):\n",
    "    \n",
    "    ##List that contain the distributions and conditionals of the Conditional Probability Table\n",
    "    conditional_list = []\n",
    "    distribution_list = []\n",
    "    \n",
    "    ##Reads every k in the node\n",
    "    for k in node.keys():\n",
    "        \n",
    "        ##List that contain the probability table of the Conditional Probability Table\n",
    "        probability_list = []\n",
    "        \n",
    "        ##Info has the informations of the name and parents of the state \n",
    "        info = k.split(\"|\")\n",
    "        \n",
    "        ##Parents has the list of parents of the state \n",
    "        parents = info[1].split(\",\")\n",
    "        \n",
    "        ##For every parent of the k it will push it to the probability list\n",
    "        for i in range(len(parents)):\n",
    "            probability_list.append(parents[i])\n",
    "         \n",
    "        ##It pushes the numerical value of the probability \n",
    "        probability_list.append(node.get(k))\n",
    "        \n",
    "        ##Adds that probability to the table\n",
    "        conditional_list.append(probability_list)\n",
    "   \n",
    "    ##Reads every k in the node\n",
    "    for k in node.keys():\n",
    "        \n",
    "        ##Info has the informations of the name and parents of the state \n",
    "        info = k.split(\"|\")\n",
    "        \n",
    "        ##Parents has the list of parents of the state \n",
    "        parents = info[1].split(\",\")\n",
    "        \n",
    "        ##For every parent of the k it will push it to the distribution list\n",
    "        for i in range(len(parents)):\n",
    "            \n",
    "            ##For every distribution that equals to the parents  will push it to the distribution list\n",
    "            for d in range(len(cond_dis_list)):\n",
    "                if parents[i] == cond_dis_list[d][0] or parents[i] == \"-\"+cond_dis_list[d][0][0]:\n",
    "                    distribution_list.append(distribution[d])\n",
    "                    break \n",
    "            \n",
    "            ##For every distribution that equals to the parents  will push it to the distribution list\n",
    "        \n",
    "        break   \n",
    "    \n",
    "    ##Creates a Conditional Probability Table with the conditional_list and distribution_list generated in the function\n",
    "    cond = ConditionalProbabilityTable(conditional_list,distribution_list)\n",
    "    \n",
    "    ##Returns the Conditional Probability Table cond\n",
    "    return cond    \n",
    "    \n",
    "\n",
    "\n",
    "            "
   ]
  },
  {
   "cell_type": "markdown",
   "metadata": {},
   "source": [
    "#### Function addEdgesOfStates adds all the Edges between states of the Bayesian Network "
   ]
  },
  {
   "cell_type": "code",
   "execution_count": 61,
   "metadata": {},
   "outputs": [],
   "source": [
    "##def addEdgesOfStates():\n",
    "\n",
    "\n"
   ]
  },
  {
   "cell_type": "markdown",
   "metadata": {},
   "source": [
    "#### Function createJsonFile creates a JSON file with the Bayesian Network"
   ]
  },
  {
   "cell_type": "code",
   "execution_count": null,
   "metadata": {},
   "outputs": [],
   "source": [
    "def createJsonFile():\n",
    "    "
   ]
  },
  {
   "cell_type": "code",
   "execution_count": 102,
   "metadata": {},
   "outputs": [
    {
     "ename": "TypeError",
     "evalue": "addNewTable() missing 1 required positional argument: 'conditional'",
     "output_type": "error",
     "traceback": [
      "\u001b[0;31m---------------------------------------------------------------------------\u001b[0m",
      "\u001b[0;31mTypeError\u001b[0m                                 Traceback (most recent call last)",
      "\u001b[0;32m<ipython-input-102-a9be3bdea48d>\u001b[0m in \u001b[0;36m<module>\u001b[0;34m()\u001b[0m\n\u001b[1;32m     33\u001b[0m             \u001b[0mparents\u001b[0m \u001b[0;34m=\u001b[0m \u001b[0minfo\u001b[0m\u001b[0;34m[\u001b[0m\u001b[0;36m1\u001b[0m\u001b[0;34m]\u001b[0m\u001b[0;34m.\u001b[0m\u001b[0msplit\u001b[0m\u001b[0;34m(\u001b[0m\u001b[0;34m\",\"\u001b[0m\u001b[0;34m)\u001b[0m\u001b[0;34m\u001b[0m\u001b[0m\n\u001b[1;32m     34\u001b[0m             \u001b[0;31m##Calls the function addNewTable that returns a Conditional Probability Table and adds it to the dictionary\u001b[0m\u001b[0;34m\u001b[0m\u001b[0;34m\u001b[0m\u001b[0m\n\u001b[0;32m---> 35\u001b[0;31m             \u001b[0mcond\u001b[0m \u001b[0;34m=\u001b[0m \u001b[0maddNewTable\u001b[0m\u001b[0;34m(\u001b[0m\u001b[0mnode\u001b[0m\u001b[0;34m,\u001b[0m \u001b[0mdictionary_con_dis\u001b[0m\u001b[0;34m)\u001b[0m\u001b[0;34m\u001b[0m\u001b[0m\n\u001b[0m\u001b[1;32m     36\u001b[0m             \u001b[0mtuple_cond\u001b[0m\u001b[0;34m=\u001b[0m \u001b[0;34m(\u001b[0m\u001b[0mname\u001b[0m\u001b[0;34m,\u001b[0m\u001b[0mparents\u001b[0m\u001b[0;34m,\u001b[0m\u001b[0mcond\u001b[0m\u001b[0;34m)\u001b[0m\u001b[0;34m\u001b[0m\u001b[0m\n\u001b[1;32m     37\u001b[0m             \u001b[0mcond_dist_list\u001b[0m\u001b[0;34m.\u001b[0m\u001b[0mappend\u001b[0m\u001b[0;34m(\u001b[0m\u001b[0mtuple_cond\u001b[0m\u001b[0;34m)\u001b[0m\u001b[0;34m\u001b[0m\u001b[0m\n",
      "\u001b[0;31mTypeError\u001b[0m: addNewTable() missing 1 required positional argument: 'conditional'"
     ]
    }
   ],
   "source": [
    "with open(\"Noisy_OR.json\", \"r\") as f:\n",
    "    bayer_data = json.load(f)\n",
    "\n",
    "##Lists that contain the distributions, conditionals and states of the Bayesian Network\n",
    "cond_dist_list = []\n",
    "state_list = []\n",
    "conditional_list = []\n",
    "\n",
    "counter = 0\n",
    "\n",
    "\n",
    "##Reads every line of the JSON file \n",
    "for node in bayer_data:\n",
    "    \n",
    "    ##Reads every key value from the node that is reading at the moment\n",
    "    for k in node.keys():\n",
    "        \n",
    "        ##If the k does not have a character \"|\" it means is a Discrete Distribution\n",
    "        if k.find(\"|\") == -1:\n",
    "            name = k[0:len(k):1]\n",
    "            ##Creates a Discrete Distribution with the k value as the name and the information of the key as the rest and adds it to the dictionary\n",
    "            distribution = DiscreteDistribution({k : node.get(k)})\n",
    "            tuple_dis =(name, distribution)\n",
    "            cond_dist_list.append(tuple_dis)\n",
    "            ##Creates a new state with the distribution and the name k\n",
    "            state_list.append(State( distribution, name = k))\n",
    "            \n",
    "        ##If the k has a \"|\" it means is a Conditional Probability Table    \n",
    "        elif k.find(\"|\") == 1: \n",
    "            \n",
    "            info = k.split(\"|\")\n",
    "            name = info[0]\n",
    "            parents = info[1].split(\",\")\n",
    "            ##Calls the function addNewTable that returns a Conditional Probability Table and adds it to the dictionary\n",
    "            cond = addNewTable(node, cond_dist_list)\n",
    "            tuple_cond= (name,parents,cond)\n",
    "            cond_dist_list.append(tuple_cond)\n",
    "           \n",
    "            ##Creates a new state with the conditional and the name k\n",
    "            state_list.append(State(cond, name = k.split(\"|\")[0]))\n",
    "            \n",
    "            break\n",
    "            \n",
    "print(cond_dist_list[5])\n",
    "network = BayesianNetwork(\"Name\")\n",
    "network.add_state(state_list)"
   ]
  },
  {
   "cell_type": "code",
   "execution_count": null,
   "metadata": {},
   "outputs": [],
   "source": []
  }
 ],
 "metadata": {
  "kernelspec": {
   "display_name": "Python 3",
   "language": "python",
   "name": "python3"
  },
  "language_info": {
   "codemirror_mode": {
    "name": "ipython",
    "version": 3
   },
   "file_extension": ".py",
   "mimetype": "text/x-python",
   "name": "python",
   "nbconvert_exporter": "python",
   "pygments_lexer": "ipython3",
   "version": "3.5.6"
  }
 },
 "nbformat": 4,
 "nbformat_minor": 4
}
