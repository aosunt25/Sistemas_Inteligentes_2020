{
 "cells": [
  {
   "cell_type": "markdown",
   "metadata": {},
   "source": [
    "# Bayesian Networks"
   ]
  },
  {
   "cell_type": "code",
   "execution_count": 33,
   "metadata": {},
   "outputs": [],
   "source": [
    "import math \n",
    "from pomegranate import *\n",
    "import json"
   ]
  },
  {
   "cell_type": "code",
   "execution_count": 50,
   "metadata": {},
   "outputs": [
    {
     "ename": "IndentationError",
     "evalue": "expected an indented block (<ipython-input-50-906ffd553d28>, line 28)",
     "output_type": "error",
     "traceback": [
      "\u001b[0;36m  File \u001b[0;32m\"<ipython-input-50-906ffd553d28>\"\u001b[0;36m, line \u001b[0;32m28\u001b[0m\n\u001b[0;31m    break\u001b[0m\n\u001b[0m    ^\u001b[0m\n\u001b[0;31mIndentationError\u001b[0m\u001b[0;31m:\u001b[0m expected an indented block\n"
     ]
    }
   ],
   "source": [
    "def addNewTable(node, distribution, conditional):\n",
    "    conditional_list = []\n",
    "    distribution_list = []\n",
    "    print(conditional)\n",
    "    for k in node.keys():\n",
    "        probability_list = []\n",
    "        info = k.split(\"|\")\n",
    "        parents = info[1].split(\",\")\n",
    "        \n",
    "        for i in range(len(parents)):\n",
    "            probability_list.append(parents[i])\n",
    "            \n",
    "        probability_list.append(node.get(k))\n",
    "        conditional_list.append(probability_list)\n",
    "   \n",
    "    for k in node.keys():\n",
    "        info = k.split(\"|\")\n",
    "        parents = info[1].split(\",\")\n",
    "        for i in range(len(parents)):\n",
    "            for d in range(len(distribution)):\n",
    "                if parents[i] == distribution[d].keys()[0] or parents[i] == \"-\"+distribution[d].keys()[0]:\n",
    "                    distribution_list.append(distribution[d])\n",
    "                    break \n",
    "        break   \n",
    "    \n",
    "    cond = ConditionalProbabilityTable(conditional_list,distribution_list)\n",
    "    return cond    \n",
    "    \n",
    "\n",
    "\n",
    "            "
   ]
  },
  {
   "cell_type": "code",
   "execution_count": 51,
   "metadata": {},
   "outputs": [
    {
     "name": "stdout",
     "output_type": "stream",
     "text": [
      "F -A ('B', '-B') B\t0.83\n",
      "-B\t0.010000000000000004\n",
      "F B ('B', '-B') B\t0.83\n",
      "-B\t0.010000000000000004\n",
      "F -C ('B', '-B') B\t0.83\n",
      "-B\t0.010000000000000004\n",
      "F D ('B', '-B') B\t0.83\n",
      "-B\t0.010000000000000004\n",
      "G -D ('B', '-B') B\t0.83\n",
      "-B\t0.010000000000000004\n",
      "G -D ('-D', 'D') -A\tB\t-C\tD\t0.330016\n",
      "-A\tB\t-C\t-D\t0.002999999999999999\n",
      "A\t-B\t-C\tD\t0.328672\n",
      "-A\t-B\t-C\tD\t0.328\n",
      "-A\t-B\t-C\t-D\t0.0\n",
      "-A\t-B\tC\tD\t0.329344\n",
      "A\tB\tC\t-D\t0.005989005999999998\n",
      "A\t-B\tC\tD\t0.330014656\n",
      "-A\tB\tC\tD\t0.33135596800000006\n",
      "A\tB\tC\tD\t0.33\n",
      "A\t-B\t-C\t-D\t0.0010000000000000002\n",
      "-A\tB\tC\t-D\t0.004994\n",
      "A\tB\t-C\tD\t0.33068598399999993\n",
      "-A\t-B\tC\t-D\t0.0020000000000000005\n",
      "A\t-B\tC\t-D\t0.002997999999999999\n",
      "A\tB\t-C\t-D\t0.003997\n",
      "H -F ('B', '-B') B\t0.83\n",
      "-B\t0.010000000000000004\n",
      "H -F ('-D', 'D') -A\tB\t-C\tD\t0.330016\n",
      "-A\tB\t-C\t-D\t0.002999999999999999\n",
      "A\t-B\t-C\tD\t0.328672\n",
      "-A\t-B\t-C\tD\t0.328\n",
      "-A\t-B\t-C\t-D\t0.0\n",
      "-A\t-B\tC\tD\t0.329344\n",
      "A\tB\tC\t-D\t0.005989005999999998\n",
      "A\t-B\tC\tD\t0.330014656\n",
      "-A\tB\tC\tD\t0.33135596800000006\n",
      "A\tB\tC\tD\t0.33\n",
      "A\t-B\t-C\t-D\t0.0010000000000000002\n",
      "-A\tB\tC\t-D\t0.004994\n",
      "A\tB\t-C\tD\t0.33068598399999993\n",
      "-A\t-B\tC\t-D\t0.0020000000000000005\n",
      "A\t-B\tC\t-D\t0.002997999999999999\n",
      "A\tB\t-C\t-D\t0.003997\n",
      "H -F ('-D', 'D') -D\t0.02\n",
      "D\t0.41\n",
      "I -F ('B', '-B') B\t0.83\n",
      "-B\t0.010000000000000004\n",
      "I -F ('-D', 'D') -A\tB\t-C\tD\t0.330016\n",
      "-A\tB\t-C\t-D\t0.002999999999999999\n",
      "A\t-B\t-C\tD\t0.328672\n",
      "-A\t-B\t-C\tD\t0.328\n",
      "-A\t-B\t-C\t-D\t0.0\n",
      "-A\t-B\tC\tD\t0.329344\n",
      "A\tB\tC\t-D\t0.005989005999999998\n",
      "A\t-B\tC\tD\t0.330014656\n",
      "-A\tB\tC\tD\t0.33135596800000006\n",
      "A\tB\tC\tD\t0.33\n",
      "A\t-B\t-C\t-D\t0.0010000000000000002\n",
      "-A\tB\tC\t-D\t0.004994\n",
      "A\tB\t-C\tD\t0.33068598399999993\n",
      "-A\t-B\tC\t-D\t0.0020000000000000005\n",
      "A\t-B\tC\t-D\t0.002997999999999999\n",
      "A\tB\t-C\t-D\t0.003997\n",
      "I -F ('-D', 'D') -D\t0.02\n",
      "D\t0.41\n",
      "I -F ('F', '-F') -F\t0.06\n",
      "F\t0.12000000000000001\n"
     ]
    }
   ],
   "source": [
    "with open(\"Noisy_OR.json\", \"r\") as f:\n",
    "    bayer_data = json.load(f)\n",
    "\n",
    "distribution_list = []\n",
    "state_list = []\n",
    "conditional_list = []\n",
    "counter = 0\n",
    "for node in bayer_data:\n",
    "    \n",
    "    for k in node.keys():\n",
    "        \n",
    "        if k.find(\"|\") == -1:\n",
    "            distribution = DiscreteDistribution({k : node.get(k)})\n",
    "            distribution_list.append(distribution)\n",
    "            state_list.append(State(distribution, name = k))\n",
    "            \n",
    "        else:\n",
    "            cond = addNewTable(node, distribution_list, conditional_list)\n",
    "            conditional_list.append(cond)\n",
    "            state_list.append(State(cond, name = k.split(\"|\")[0]))\n",
    "            break\n",
    "            \n",
    "            "
   ]
  },
  {
   "cell_type": "code",
   "execution_count": null,
   "metadata": {},
   "outputs": [],
   "source": []
  },
  {
   "cell_type": "code",
   "execution_count": null,
   "metadata": {},
   "outputs": [],
   "source": []
  }
 ],
 "metadata": {
  "kernelspec": {
   "display_name": "Python 3",
   "language": "python",
   "name": "python3"
  },
  "language_info": {
   "codemirror_mode": {
    "name": "ipython",
    "version": 3
   },
   "file_extension": ".py",
   "mimetype": "text/x-python",
   "name": "python",
   "nbconvert_exporter": "python",
   "pygments_lexer": "ipython3",
   "version": "3.5.6"
  }
 },
 "nbformat": 4,
 "nbformat_minor": 4
}
