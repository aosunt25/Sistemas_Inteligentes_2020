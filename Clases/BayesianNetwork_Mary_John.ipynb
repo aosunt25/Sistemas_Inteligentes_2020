{
 "cells": [
  {
   "cell_type": "code",
   "execution_count": 12,
   "metadata": {},
   "outputs": [],
   "source": [
    "import math\n",
    "from pomegranate import * \n",
    "\n",
    "bulgary = DiscreteDistribution({'b' : 0.001, 'nb': 0.999})\n",
    "earthquake = DiscreteDistribution({'e': 0.002, 'ne': 0.998})\n",
    "\n",
    "alarm = ConditionalProbabilityTable([\n",
    "    ['b','e','a',0.95],\n",
    "    ['b','ne','a',0.94],\n",
    "    ['nb','e','a',0.29],\n",
    "    ['nb','ne','a',0.001],\n",
    "    ['b','e','na',0.005],\n",
    "    ['b','ne','na',0.06],\n",
    "    ['nb','e','na',0.71],\n",
    "    ['nb','ne','na',0.999]\n",
    "],[bulgary, earthquake]\n",
    ")\n",
    "\n",
    "john = ConditionalProbabilityTable([\n",
    "    ['a', 'j', 0.9],\n",
    "    ['na', 'j', 0.05],\n",
    "    ['a', 'nj', 0.1],\n",
    "    ['na', 'nj', 0.95]\n",
    "], [alarm])\n",
    "\n",
    "mary = ConditionalProbabilityTable ([\n",
    "    ['a', 'm', 0.7],\n",
    "    ['na', 'm', 0.01],\n",
    "    ['a', 'nm', 0.3],\n",
    "    ['na', 'nm', 0.99]\n",
    "], [alarm])\n",
    "\n",
    "s1 = State(bulgary, name = \"bulgary\")\n",
    "s2 = State(earthquake, name = \"earthquake\")\n",
    "s3 = State(alarm, name = \"alarm\")\n",
    "s4 = State(john, name = \"john\")\n",
    "s5 = State(mary, name = \"mary\")\n",
    "\n",
    "network = BayesianNetwork(\"John & Mary Yo!\")\n",
    "network.add_states(s1, s2, s3, s4, s5)\n",
    "network.add_edge(s1,s3)\n",
    "network.add_edge(s2,s3)\n",
    "network.add_edge(s3,s4)\n",
    "network.add_edge(s3,s5)\n",
    "\n",
    "network.bake()\n",
    "beliefs = network.predict_proba({'john': 'j', 'mary':'m'})\n",
    "##print(\"n\".join(\"{}t{}\".format(state.name, str(belief))for state, belief in zip (network.states, beliefs)))"
   ]
  },
  {
   "cell_type": "code",
   "execution_count": null,
   "metadata": {},
   "outputs": [],
   "source": []
  },
  {
   "cell_type": "code",
   "execution_count": null,
   "metadata": {},
   "outputs": [],
   "source": []
  }
 ],
 "metadata": {
  "kernelspec": {
   "display_name": "Python 3",
   "language": "python",
   "name": "python3"
  },
  "language_info": {
   "codemirror_mode": {
    "name": "ipython",
    "version": 3
   },
   "file_extension": ".py",
   "mimetype": "text/x-python",
   "name": "python",
   "nbconvert_exporter": "python",
   "pygments_lexer": "ipython3",
   "version": "3.5.6"
  }
 },
 "nbformat": 4,
 "nbformat_minor": 2
}
